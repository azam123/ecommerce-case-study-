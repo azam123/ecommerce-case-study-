
# 📦 Import Libraries
import pandas as pd
import matplotlib.pyplot as plt
import seaborn as sns

# Load Data
customers_df = pd.read_excel("CustomersData.xlsx")
sales_df = pd.read_csv("Online_Sales.csv")
coupon_df = pd.read_csv("Discount_Coupon.csv")
tax_df = pd.read_excel("Tax_amount.xlsx")
marketing_df = pd.read_csv("Marketing_Spend.csv")

# Preprocess Dates
sales_df['Transaction_Date'] = pd.to_datetime(sales_df['Transaction_Date'])
marketing_df['Date'] = pd.to_datetime(marketing_df['Date'])

sales_df['Month'] = sales_df['Transaction_Date'].dt.strftime('%b')
sales_df['Year'] = sales_df['Transaction_Date'].dt.year

# 🔗 Merge DataFrames
df = pd.merge(sales_df, customers_df, on='CustomerID', how='left')
df = pd.merge(df, tax_df, on='Product_Category', how='left')
df = pd.merge(df, coupon_df, on=['Month', 'Product_Category'], how='left')

# Calculate Financial Metrics
df['Revenue'] = df['Quantity'] * df['Avg_Price']
df['Discount_pct'] = df.apply(lambda row: 0 if row['Coupon_Status'] == 'Not Used' else row['Discount_pct'], axis=1)
df['Discount'] = df['Revenue'] * (df['Discount_pct'].fillna(0) / 100)
df['Tax'] = df['Revenue'] * df['GST'].fillna(0)
df['Net_Revenue'] = df['Revenue'] + df['Delivery_Charges'] - df['Discount'] - df['Tax']

# EDA: Revenue Trends
monthly_revenue = df.groupby(df['Transaction_Date'].dt.to_period('M')).agg({'Net_Revenue': 'sum'}).reset_index()
monthly_revenue['Transaction_Date'] = monthly_revenue['Transaction_Date'].astype(str)

plt.figure(figsize=(12,6))
sns.lineplot(data=monthly_revenue, x='Transaction_Date', y='Net_Revenue')
plt.title('Monthly Net Revenue Over Time')
plt.xticks(rotation=45)
plt.tight_layout()
plt.show()
